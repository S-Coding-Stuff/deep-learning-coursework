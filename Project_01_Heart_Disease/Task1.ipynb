{
 "cells": [
  {
   "cell_type": "markdown",
   "id": "03e4fa19-ddf9-45d2-9034-0236e97b6307",
   "metadata": {},
   "source": [
    "Task 1\n",
    "\n",
    "In this task, you are required to implement an Artificial Neural Network (ANN) model with the architecture outlined in Figure 1. You will train the model using the Heart Disease Dataset, a binary classification dataset.  Thefeatures were collected for 303 patients. The target variable represents the diagnosis of the patients, i.e. 0 – no risk of heart disease, 1 – at risk of heart disease. Implementation requirements: You must implement the neural network from scratch using linear algebra operations. Do not use any off-the-shelf machine learning libraries unless explicitly allowed in the assessment criteria. Follow the specifications below to complete the task:\n",
    "\n",
    "1. Upload the Heart Disease Dataset from the provided file (heart-disease.csv).\n",
    "2. Initialize the weights using a uniform distribution with values ranging between      -1 and 1 and set the biases to 0.\n",
    "3. Use mini-batch gradient descent and backpropagation to train the network.\n",
    "4. Set 128 as the size of the mini batch, 0.01 as the value of the learning rate,       and 500 as the number of training epochs.\n",
    "5. Visualize the loss and classification accuracy during different stages of the        training process to evaluate if the model is learning correctly.\n",
    "6. Print the final accuracy and the loss obtained by the model on the Heart Disease     Dataset."
   ]
  },
  {
   "cell_type": "code",
   "execution_count": 199,
   "id": "316d86ec-9f1a-42eb-b802-239ad5022d96",
   "metadata": {
    "scrolled": true
   },
   "outputs": [
    {
     "name": "stdout",
     "output_type": "stream",
     "text": [
      "(303, 13)\n",
      "(303, 1)\n"
     ]
    }
   ],
   "source": [
    "import numpy as np\n",
    "import pandas as pd\n",
    "from sklearn.model_selection import train_test_split\n",
    "import matplotlib.pyplot as plt\n",
    "from sklearn import metrics \n",
    "\n",
    "# Load data\n",
    "data = pd.read_csv('heart-disease.csv')\n",
    "\n",
    "x = data.iloc[:, :-1].values\n",
    "y = data.iloc[:,-1].values.reshape(-1,1)\n",
    "y = y.reshape(len(y),1)\n",
    "\n",
    "print(x.shape)\n",
    "print(y.shape)"
   ]
  },
  {
   "cell_type": "code",
   "execution_count": 202,
   "id": "0b65f95e-8507-4e6f-9faf-145596d1e158",
   "metadata": {},
   "outputs": [],
   "source": [
    "# Activation Functions\n",
    "def sigmoid(v):\n",
    "    return 1/(1+np.exp(-v))\n",
    "\n",
    "def sigmoid_derivative(v):\n",
    "    return sigmoid(v) * (1 - (1/(1+np.exp(-v))))\n",
    "    \n",
    "def crossEntrop(o,y):\n",
    "    return (-y*(np.log(o)) - (1-y)* np.log(1-o))\n",
    "\n",
    "def crossEntrDeriv(o,y):\n",
    "    return -(y/o - (1-y)/(1-o))"
   ]
  },
  {
   "cell_type": "code",
   "execution_count": 204,
   "id": "fcf1c186-f9c2-4fbc-90be-dfbbbad7d059",
   "metadata": {},
   "outputs": [],
   "source": [
    "# Hyperparameters\n",
    "input_nodes = x.shape[1]\n",
    "hidden_nodes = 5\n",
    "output_nodes = 1\n",
    "learning_rate = 0.01\n",
    "epochs = 500\n",
    "mini_batch = 128"
   ]
  },
  {
   "cell_type": "code",
   "execution_count": 232,
   "id": "9a3d4e35-d763-42fe-8469-ff8acbeec7db",
   "metadata": {},
   "outputs": [
    {
     "name": "stdout",
     "output_type": "stream",
     "text": [
      "Epoch 0 - Loss: 0.7330, Accuracy: 0.3596\n",
      "Epoch 50 - Loss: 0.6890, Accuracy: 0.5696\n",
      "Epoch 100 - Loss: 0.6862, Accuracy: 0.5696\n",
      "Epoch 150 - Loss: 0.6856, Accuracy: 0.5696\n",
      "Epoch 200 - Loss: 0.6855, Accuracy: 0.5696\n",
      "Epoch 250 - Loss: 0.6855, Accuracy: 0.5696\n",
      "Epoch 300 - Loss: 0.6854, Accuracy: 0.5696\n",
      "Epoch 350 - Loss: 0.6854, Accuracy: 0.5696\n",
      "Epoch 400 - Loss: 0.6854, Accuracy: 0.5696\n",
      "Epoch 450 - Loss: 0.6854, Accuracy: 0.5696\n",
      "Epoch 500 - Final Loss: 0.6854, Final Accuracy: 0.5696\n"
     ]
    }
   ],
   "source": [
    "# Initialising Weights and Biases\n",
    "np.random.seed(42)\n",
    "w1 = np.random.uniform(-1, 1, (input_nodes, hidden_nodes))\n",
    "b1 = np.zeros((1, hidden_nodes))\n",
    "w2 = np.random.uniform(-1, 1, (hidden_nodes, output_nodes))\n",
    "b2 = np.zeros((1, output_nodes))\n",
    "\n",
    "# Arrays used for initial training / testing, but changed to fit Task 1 better\n",
    "train_E = []\n",
    "train_Acc = []\n",
    "\n",
    "for epoch in range(epochs):\n",
    "    in1 = x @ w1 + b1\n",
    "    out1 = sigmoid(in1)\n",
    "    in2 = out1 @ w2 + b2\n",
    "    out2 = sigmoid(in2)\n",
    "\n",
    "    train_error_epoch = []\n",
    "    train_acc_epoch = []\n",
    "    \n",
    "    for i in range(0, len(x), mini_batch):\n",
    "        x_batch = x[i:i + mini_batch-1,:]\n",
    "        y_batch = y[i:i + mini_batch-1]\n",
    "        \n",
    "        in1 = x_batch @ w1 + b1\n",
    "        out1 = sigmoid(in1)\n",
    "        in2 = out1 @ w2 + b2\n",
    "        out2 = sigmoid(in2)\n",
    "        \n",
    "        # Error\n",
    "        error = crossEntrop(out2, y_batch).mean()\n",
    "        train_error_epoch.append(error)\n",
    "\n",
    "        # Compute accuracy -add\n",
    "        pred_train = np.where(out2 > 0.5, 1, 0)\n",
    "        train_acc_epoch.append(metrics.accuracy_score(y_batch, pred_train))\n",
    "\n",
    "        \n",
    "        # Backpropagation L2\n",
    "        dEdOut2 = crossEntrDeriv(out2, y_batch)\n",
    "        dOut2dIn2 = sigmoid_derivative(in2)\n",
    "        dIn2dW2 = out1\n",
    "        dIn2dB2 = 1\n",
    "        dEdW2 = (1 / x_batch.shape[0]) * dIn2dW2.T @ (dEdOut2 * dOut2dIn2)\n",
    "        dEdB2 = (1 / x_batch.shape[0]) * np.ones([1, x_batch.shape[0]]) @ (dEdOut2 * dOut2dIn2)\n",
    "        \n",
    "        # Backpropagation L1\n",
    "        dIn2dOut1 = w2\n",
    "        dOut1dIn1 = sigmoid_derivative(in1)\n",
    "        dIn1dW1 = x_batch\n",
    "        dEdW1 = (1 / x_batch.shape[0]) * dIn1dW1.T @ ((dEdOut2 * dOut2dIn2 @ dIn2dOut1.T) * dOut1dIn1)\n",
    "        dEdB1 = (1 / x_batch.shape[0]) * np.ones([len(x_batch)]) @ ((dEdOut2 * dOut2dIn2 @ dIn2dOut1.T) * dOut1dIn1)\n",
    "        \n",
    "        # Update Params\n",
    "        b2 -= learning_rate * dEdB2\n",
    "        w2 -= learning_rate * dEdW2\n",
    "        b1 -= learning_rate * dEdB1\n",
    "        w1 -= learning_rate * dEdW1\n",
    "    \n",
    "    # Store final values for the epoch\n",
    "    train_E.append(np.mean(train_error_epoch))\n",
    "    train_Acc.append(np.mean(train_acc_epoch))\n",
    "    \n",
    "    if epoch % 50 == 0:\n",
    "        print(f\"Epoch {epoch} - Loss: {train_E[-1]:.4f}, Accuracy: {train_Acc[-1]:.4f}\")\n",
    "\n",
    "training_final_loss = train_E[-1]\n",
    "training_final_acc = train_Acc[-1]\n",
    "\n",
    "print(f\"Epoch 500 - Final Loss: {training_final_loss:.4f}, Final Accuracy: {training_final_acc:.4f}\")"
   ]
  },
  {
   "cell_type": "code",
   "execution_count": 234,
   "id": "85acd2e6-c428-4f1f-a8df-25c12e461a15",
   "metadata": {},
   "outputs": [
    {
     "data": {
      "image/png": "[encoded data removed]",
      "text/plain": [
       "<Figure size 1000x400 with 2 Axes>"
      ]
     },
     "metadata": {},
     "output_type": "display_data"
    }
   ],
   "source": [
    "from sklearn import metrics\n",
    "import matplotlib.pyplot as plt\n",
    "\n",
    "# Plotting the epochs against the Error and Accuracy\n",
    "plt.figure(figsize = (10, 4))\n",
    "plt.subplot(1, 2, 1)\n",
    "z = np.arange(epochs)\n",
    "plt.plot(z,train_E, label = \"Train Error\", color = 'red')\n",
    "plt.legend(loc='best')\n",
    "plt.title('Error')\n",
    "plt.xlabel('Epochs')\n",
    "plt.ylabel('Loss')\n",
    "\n",
    "plt.subplot(1, 2, 2)\n",
    "\n",
    "plt.plot(z,train_Acc,label = \"Train Accuracy\",color = 'red')\n",
    "plt.legend(loc='best')\n",
    "plt.title('Accuracy')\n",
    "plt.show()"
   ]
  },
  {
   "cell_type": "code",
   "execution_count": null,
   "id": "3fae78bd-775a-441f-80e4-c122d7cb049b",
   "metadata": {},
   "outputs": [],
   "source": []
  }
 ],
 "metadata": {
  "kernelspec": {
   "display_name": "Python [conda env:base] *",
   "language": "python",
   "name": "conda-base-py"
  },
  "language_info": {
   "codemirror_mode": {
    "name": "ipython",
    "version": 3
   },
   "file_extension": ".py",
   "mimetype": "text/x-python",
   "name": "python",
   "nbconvert_exporter": "python",
   "pygments_lexer": "ipython3",
   "version": "3.12.7"
  }
 },
 "nbformat": 4,
 "nbformat_minor": 5
}
